{
 "cells": [
  {
   "cell_type": "code",
   "execution_count": 18,
   "id": "18a3c52f-68fc-429b-aeb5-2fea201a8891",
   "metadata": {},
   "outputs": [
    {
     "name": "stdout",
     "output_type": "stream",
     "text": [
      "Welcome! This kiosk sells tickets and passes for Big Mountain Resort.\n",
      "Please place your order by selecting the product number and providing the quantity desired.\n",
      "\n",
      "Here are the ticket options:\n",
      "\n",
      "|   | Product                        | Price   |\n",
      "| 1 | Single Day Ticket - Weekday    | $50.00 |\n",
      "| 2 | Single Day Ticket - Weekend    | $78.00 |\n",
      "| 3 | Season Pass - Adult            | $469.00 |\n",
      "| 4 | Season Pass - Child            | $259.00 |\n",
      "| 5 | Season Pass - Senior           | $459.00 |\n"
     ]
    },
    {
     "name": "stdin",
     "output_type": "stream",
     "text": [
      "\n",
      "What would you like to purchase? (Enter product number):  1\n",
      "How many would you like to purchase?  3\n"
     ]
    },
    {
     "name": "stdout",
     "output_type": "stream",
     "text": [
      "\n",
      "You want 3 of Single Day Ticket - Weekday.\n",
      "The current total for your order is $150.00\n",
      "\n"
     ]
    },
    {
     "name": "stdin",
     "output_type": "stream",
     "text": [
      "If you are finished ordering, enter '1'. To add more items, enter '2':  2\n",
      "\n",
      "What would you like to purchase? (Enter product number):  4\n",
      "How many would you like to purchase?  1\n"
     ]
    },
    {
     "name": "stdout",
     "output_type": "stream",
     "text": [
      "\n",
      "You want 1 of Season Pass - Child.\n",
      "The current total for your order is $409.00\n",
      "\n"
     ]
    },
    {
     "name": "stdin",
     "output_type": "stream",
     "text": [
      "If you are finished ordering, enter '1'. To add more items, enter '2':  1\n"
     ]
    },
    {
     "name": "stdout",
     "output_type": "stream",
     "text": [
      "\n",
      "Here is a summary of your order:\n",
      "| Product                        | Quantity |\n",
      "| Single Day Ticket - Weekday    |     3     |\n",
      "| Single Day Ticket - Weekend    |     0     |\n",
      "| Season Pass - Adult            |     0     |\n",
      "| Season Pass - Child            |     1     |\n",
      "| Season Pass - Senior           |     0     |\n",
      "\n",
      "The total cost is $409.00\n",
      "\n",
      "Thank you for shopping at Big Mountain Resort! We hope to see you again!\n"
     ]
    }
   ],
   "source": [
    "# Define and create the inventory in our kiosk.\n",
    "products = {\n",
    "    1: (\"Single Day Ticket - Weekday\", 50.00),\n",
    "    2: (\"Single Day Ticket - Weekend\", 78.00),\n",
    "    3: (\"Season Pass - Adult\", 469.00),\n",
    "    4: (\"Season Pass - Child\", 259.00),\n",
    "    5: (\"Season Pass - Senior\", 459.00)\n",
    "}\n",
    "\n",
    "# Engage with the reader and show products to pick from.\n",
    "print(\"Welcome! This kiosk sells tickets and passes for Big Mountain Resort.\")\n",
    "print(\"Please place your order by selecting the product number and providing the quantity desired.\\n\")\n",
    "print(\"Here are the ticket options:\\n\")\n",
    "print(\"|   | Product                        | Price   |\")\n",
    "for key, (name, price) in products.items():\n",
    "    print(f\"| {key} | {name:<30} | ${price:.2f} |\")\n",
    "\n",
    "# Store quantities of each product picked\n",
    "order = {key: 0 for key in products}\n",
    "\n",
    "# Save to running total variable\n",
    "order_total = 0\n",
    "\n",
    "# While loop for kiosk process\n",
    "while True:\n",
    "    try:\n",
    "        product_choice = int(input(\"\\nWhat would you like to purchase? (Enter product number): \"))\n",
    "        if product_choice in products:\n",
    "            quantity = int(input(\"How many would you like to purchase? \"))\n",
    "            order[product_choice] += quantity\n",
    "            order_total += products[product_choice][1] * quantity\n",
    "            print(f\"\\nYou want {order[product_choice]} of {products[product_choice][0]}.\")\n",
    "            print(f\"The current total for your order is ${order_total:.2f}\\n\")\n",
    "        else:\n",
    "            print(\"That is not an option. Please try again.\")  # Error code for invalid choice\n",
    "            continue\n",
    "    except ValueError:\n",
    "        print(\"Invalid input. Please enter a number.\")  # Error code for invalid choice\n",
    "        continue\n",
    "\n",
    "    # This should not be indented inside the `try` block\n",
    "    proceed = input(\"If you are finished ordering, enter '1'. To add more items, enter '2': \")\n",
    "    if proceed == '1':\n",
    "        break\n",
    "    elif proceed != '2':\n",
    "        print(\"That is not an option. Please try again.\")  # Error code for invalid choice\n",
    "\n",
    "# Check Out Summary\n",
    "print(\"\\nHere is a summary of your order:\")\n",
    "print(\"| Product                        | Quantity |\")\n",
    "for key, qty in order.items():\n",
    "    print(f\"| {products[key][0]:<30} | {qty:^9} |\")\n",
    "\n",
    "print(f\"\\nThe total cost is ${order_total:.2f}\\n\")\n",
    "print(\"Thank you for shopping at Big Mountain Resort! We hope to see you again!\")\n"
   ]
  },
  {
   "cell_type": "code",
   "execution_count": 2,
   "id": "5a430d6b-2301-4bd6-bfef-315483601944",
   "metadata": {},
   "outputs": [],
   "source": [
    "# references "
   ]
  },
  {
   "cell_type": "code",
   "execution_count": null,
   "id": "3785786c-b896-4428-9d3a-bf266a39c71e",
   "metadata": {},
   "outputs": [],
   "source": [
    "Python Software Foundation. (n.d.). 5. Data Structures — Python 3 documentation. https://docs.python.org/3/tutorial/datastructures.html"
   ]
  },
  {
   "cell_type": "code",
   "execution_count": null,
   "id": "2d0c9449-8018-40cc-938a-f2de88290f3c",
   "metadata": {},
   "outputs": [],
   "source": []
  }
 ],
 "metadata": {
  "kernelspec": {
   "display_name": "Python [conda env:base] *",
   "language": "python",
   "name": "conda-base-py"
  },
  "language_info": {
   "codemirror_mode": {
    "name": "ipython",
    "version": 3
   },
   "file_extension": ".py",
   "mimetype": "text/x-python",
   "name": "python",
   "nbconvert_exporter": "python",
   "pygments_lexer": "ipython3",
   "version": "3.12.7"
  }
 },
 "nbformat": 4,
 "nbformat_minor": 5
}
