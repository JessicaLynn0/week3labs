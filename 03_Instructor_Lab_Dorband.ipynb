{
 "cells": [
  {
   "cell_type": "code",
   "execution_count": 36,
   "id": "9e77390d-008e-4b01-adbb-28bb5d6ef688",
   "metadata": {},
   "outputs": [
    {
     "name": "stdout",
     "output_type": "stream",
     "text": [
      "Welcome to my Celsius to Fahrenheit and Kelvin converter!\n",
      " -40  |  -40   | Temperature where both are equal\n",
      " -18  |   0     | 0-degrees F\n",
      "  0    |   32    | Freezing, or 0-degrees C\n",
      " 37   |  98.6  | Body temperature\n",
      " 100  |  212   | Boiling point of water at sea level\n",
      "\n"
     ]
    },
    {
     "name": "stdin",
     "output_type": "stream",
     "text": [
      "Please provide a value, in Celsius, to convert to Celsius:\n",
      " -40\n"
     ]
    },
    {
     "name": "stdout",
     "output_type": "stream",
     "text": [
      "-40.0 degrees Celsius is -40.0 degrees Fahrenheit which is 233.14999999999998 degrees Kelvin.\n",
      "<class 'int'>\n"
     ]
    },
    {
     "name": "stdin",
     "output_type": "stream",
     "text": [
      "\n",
      "Please provide another value, in Celsius, to convert:\n",
      " 0\n"
     ]
    },
    {
     "name": "stdout",
     "output_type": "stream",
     "text": [
      "Second set of values: 0.0 degrees Celsius is 32.0 degrees Fahrenheit which is 273.15 degrees Kelvin.\n",
      "\n",
      "The original Celsius value of -40.0 is smaller than the new value of 0.0.\n",
      "The original Fahrenheit value of -40.0 is smaller than the new value of 32.0.\n",
      "The original Kelvin value of 233.14999999999998 is less than or equal to the new value of 273.15.\n",
      "\n",
      "celsius == celsius_two and fahrenheit < fahrenheit_two\n",
      "Python lies.\n",
      "\n",
      "celsius == celsius_two or kelvin != kelvin_two\n",
      "Python speaks the truth!\n"
     ]
    }
   ],
   "source": [
    "#Step 1\n",
    "print(\"Welcome to my Celsius to Fahrenheit and Kelvin converter!\")\n",
    "\n",
    "print(f\"{'-40':^5} | {'-40':^6} | Temperature where both are equal\")\n",
    "print(f\"{'-18':^5} | {'0':^6}  | 0-degrees F\")\n",
    "print(f\"{'0':^5}  | {'32':^6}  | Freezing, or 0-degrees C\")\n",
    "print(f\"{'37':^5} | {'98.6':^6} | Body temperature\")\n",
    "print(f\"{'100':^5} | {'212':^6} | Boiling point of water at sea level\\n\")\n",
    "\n",
    "celsius = float(input(\"Please provide a value, in Celsius, to convert to Celsius:\\n\"))    #to get value from user.Used float to store decimal values\n",
    "\n",
    "#create variables\n",
    "#celsius = 0    #to hold our C value #I dont think this is needed\n",
    "fahrenheit = (9 / 5) * celsius + 32 #To convert C to F.\n",
    "kelvin = celsius + 273.15 #To convert C to K.\n",
    "\n",
    "print(f\"{celsius} degrees Celsius is {fahrenheit} degrees Fahrenheit which is {kelvin} degrees Kelvin.\")\n",
    "\n",
    "int_fahrenheit = int(fahrenheit)    #convert to int variable \n",
    "print(type(int_fahrenheit))    #print and check my type of variable\n",
    "\n",
    "#Step 2\n",
    "\n",
    "#2nd Set\n",
    "celsius_two = float(input(\"\\nPlease provide another value, in Celsius, to convert:\\n\"))\n",
    "fahrenheit_two = (9 / 5) * celsius_two + 32\n",
    "kelvin_two = celsius_two + 273.15\n",
    "\n",
    "print(f\"Second set of values: {celsius_two} degrees Celsius is {fahrenheit_two} degrees Fahrenheit which is {kelvin_two} degrees Kelvin.\\n\")\n",
    "\n",
    "#comparing with operators \n",
    "if celsius > celsius_two:\n",
    "    print(f\"The original Celsius value of {celsius} is larger than the new value of {celsius_two}.\")\n",
    "elif celsius < celsius_two:\n",
    "    print(f\"The original Celsius value of {celsius} is smaller than the new value of {celsius_two}.\")\n",
    "else:\n",
    "    print(f\"The original Celsius value of {celsius} equals the new value of {celsius_two}.\")\n",
    "\n",
    "if fahrenheit >= fahrenheit_two:\n",
    "    print(f\"The original Fahrenheit value of {fahrenheit} is greater than or equal to the new value of {fahrenheit_two}.\")\n",
    "elif fahrenheit < fahrenheit_two:\n",
    "    print(f\"The original Fahrenheit value of {fahrenheit} is smaller than the new value of {fahrenheit_two}.\")\n",
    "else:\n",
    "    print(f\"The original Fahrenheit value of {fahrenheit} is equal to {fahrenheit_two}.\")\n",
    "\n",
    "if kelvin <= kelvin_two:\n",
    "    print(f\"The original Kelvin value of {kelvin} is less than or equal to the new value of {kelvin_two}.\")\n",
    "elif kelvin < kelvin_two:\n",
    "    print(f\"The original Kelvin value of {kelvin} is smaller than the new value of {kelvin_two}.\")\n",
    "else:\n",
    "    print(f\"The original Kelvin value of {kelvin} is not equal to the new value of {kelvin_two}.\")\n",
    "\n",
    "#step 3 Logical Operators\n",
    "print(\"\\ncelsius == celsius_two and fahrenheit < fahrenheit_two\")\n",
    "if celsius == celsius_two and fahrenheit < fahrenheit_two:\n",
    "    print(\"Python speaks the truth!\")\n",
    "else:\n",
    "    print(\"Python lies.\")\n",
    "\n",
    "print(\"\\ncelsius == celsius_two or kelvin != kelvin_two\")\n",
    "if celsius == celsius_two or kelvin != kelvin_two:\n",
    "    print(\"Python speaks the truth!\")\n",
    "else:\n",
    "    print(\"Python lies.\")"
   ]
  },
  {
   "cell_type": "code",
   "execution_count": null,
   "id": "eaa39c82-61cd-4995-be1d-dbab7b7d4e79",
   "metadata": {},
   "outputs": [],
   "source": []
  }
 ],
 "metadata": {
  "kernelspec": {
   "display_name": "Python [conda env:base] *",
   "language": "python",
   "name": "conda-base-py"
  },
  "language_info": {
   "codemirror_mode": {
    "name": "ipython",
    "version": 3
   },
   "file_extension": ".py",
   "mimetype": "text/x-python",
   "name": "python",
   "nbconvert_exporter": "python",
   "pygments_lexer": "ipython3",
   "version": "3.12.7"
  }
 },
 "nbformat": 4,
 "nbformat_minor": 5
}
